{
 "cells": [
  {
   "cell_type": "code",
   "execution_count": 1,
   "id": "c353354d",
   "metadata": {},
   "outputs": [],
   "source": [
    "import ipywidgets as widgets"
   ]
  },
  {
   "cell_type": "code",
   "execution_count": 21,
   "id": "f0782fa4",
   "metadata": {},
   "outputs": [],
   "source": [
    "class Section(widgets.VBox):\n",
    "    def __init__(self, kind: str = 'Line'):\n",
    "        width = '180px'\n",
    "        self.kind = kind\n",
    "\n",
    "        self.w_kind = widgets.Dropdown(\n",
    "            value=self.kind,\n",
    "            placeholder='Choose kind',\n",
    "            options=['Line', 'Short', 'Tee'],\n",
    "            description='Type',\n",
    "            disabled=False,\n",
    "            layout=widgets.Layout(width=width)\n",
    "        )\n",
    "\n",
    "        self.output = widgets.Output()\n",
    "\n",
    "        # define the various widgets\n",
    "        self.w_Dint = widgets.BoundedIntText(description='Dint [mm]', value=140, min=20, max=300, layout=widgets.Layout(width=width))\n",
    "        self.w_Dout= widgets.BoundedIntText(description='Dout [mm]', value=230, min=100, max=400, layout=widgets.Layout(width=width))\n",
    "        self.w_L = widgets.FloatSlider(description='L [mm]', min=0, max=10000, step=1, value=100, layout=widgets.Layout(width=width))\n",
    "        self.w_sigma = widgets.Dropdown(\n",
    "            value = 'Copper',\n",
    "            options = ['Copper', 'Silver', 'Aluminium', 'Steel'],\n",
    "            description = 'Metal',\n",
    "            disabled = False,\n",
    "            layout=widgets.Layout(width=width)\n",
    "        )\n",
    "        self.w_R = widgets.FloatText(description='Short Res. [Ohm]', value=1e-3, layout=widgets.Layout(width=width))\n",
    "\n",
    "        super().__init__(children=self.UI, \n",
    "                         layout=widgets.Layout(border='solid'))\n",
    "\n",
    "        self.w_kind.observe(self.on_kind_change, 'value')\n",
    "\n",
    "    def on_kind_change(self, change):\n",
    "        self.kind = change['new']\n",
    "        self.__instantiate_ui()\n",
    "\n",
    "    @property\n",
    "    def UI(self):\n",
    "        # instantiate the new kind widget \n",
    "        if self.kind == 'Line':\n",
    "            UI = [self.w_kind, self.w_Dint, self.w_Dout, self.w_L, self.w_sigma]\n",
    "        elif self.kind == 'Short':\n",
    "            UI = [self.w_kind, self.w_Dint, self.w_Dout, self.w_R]\n",
    "        elif self.kind == 'Tee':\n",
    "            UI = [self.w_kind, self.w_Dint, self.w_Dout, self.w_sigma]\n",
    "        return UI\n",
    "    \n",
    "    def __instantiate_ui(self):\n",
    "        self.children = self.UI\n",
    "        display(self)\n"
   ]
  },
  {
   "cell_type": "code",
   "execution_count": 22,
   "id": "c22eacae",
   "metadata": {},
   "outputs": [],
   "source": [
    "class ResonatorBuilder(widgets.HBox):\n",
    "    def __init__(self):\n",
    "        # initial configuration\n",
    "        self._config = [Section('Short'), Section('Line'), Section('Tee'), Section('Line'), Section('Short')]\n",
    "        # define + and - buttons\n",
    "        self.w_add_left = widgets.Button(icon=\"plus-square\", layout=widgets.Layout(width='30px'))\n",
    "        self.w_add_right = widgets.Button(icon=\"plus-square\", layout=widgets.Layout(width='30px'))\n",
    "        self.w_del_left = widgets.Button(icon=\"minus-square\", layout=widgets.Layout(width='30px'))\n",
    "        self.w_del_right = widgets.Button(icon=\"minus-square\", layout=widgets.Layout(width='30px'))\n",
    "        # define callbacks for + and - buttons\n",
    "        self.w_add_left.on_click(self.add_section_to_the_left)\n",
    "        self.w_add_right.on_click(self.add_section_to_the_right)\n",
    "        self.w_del_left.on_click(self.del_section_to_the_left)\n",
    "        self.w_del_right.on_click(self.del_section_to_the_right)\n",
    "        \n",
    "        self.output = widgets.Output()\n",
    "\n",
    "        super().__init__(children=self.UI)\n",
    "        \n",
    "    @property\n",
    "    def UI(self):\n",
    "        return [\n",
    "            widgets.VBox([self.w_add_left, self.w_del_left]), \n",
    "            *self.config, \n",
    "            widgets.VBox([self.w_add_right, self.w_del_right]), \n",
    "            self.output\n",
    "        ]\n",
    "        \n",
    "    def add_section_to_the_left(self, change):\n",
    "        self.config.insert(0, Section())\n",
    "        self.__update_display()\n",
    "\n",
    "    def add_section_to_the_right(self, change):\n",
    "        self.config.append(Section())\n",
    "        self.__update_display()\n",
    "            \n",
    "    def del_section_to_the_left(self, change):\n",
    "        self.config.pop(0)\n",
    "        self.__update_display()\n",
    "            \n",
    "    def del_section_to_the_right(self, change):\n",
    "        self.config.pop()\n",
    "        self.__update_display()\n",
    "            \n",
    "    def __update_display(self):\n",
    "        self.children = self.UI\n",
    "        display(self)\n",
    "\n",
    "    @property\n",
    "    def config(self):\n",
    "        return self._config\n",
    "\n",
    "    @config.setter\n",
    "    def config(self, cfg):\n",
    "        self._config = cfg "
   ]
  },
  {
   "cell_type": "code",
   "execution_count": 23,
   "id": "a0095694",
   "metadata": {},
   "outputs": [
    {
     "data": {
      "application/vnd.jupyter.widget-view+json": {
       "model_id": "e897ca9d6c30418c879b78db51c0af50",
       "version_major": 2,
       "version_minor": 0
      },
      "text/plain": [
       "ResonatorBuilder(children=(VBox(children=(Button(icon='plus-square', layout=Layout(width='30px'), style=Button…"
      ]
     },
     "metadata": {},
     "output_type": "display_data"
    }
   ],
   "source": [
    "rb=ResonatorBuilder()\n",
    "rb"
   ]
  },
  {
   "cell_type": "code",
   "execution_count": 20,
   "id": "6685696b",
   "metadata": {},
   "outputs": [
    {
     "data": {
      "text/plain": [
       "[Section(children=(Dropdown(description='Section Type', layout=Layout(width='180px'), options=('Line', 'Short', 'Tee'), value='Line'), BoundedIntText(value=140, description='Dint [mm]', layout=Layout(width='180px'), max=300, min=20), BoundedIntText(value=230, description='Dout [mm]', layout=Layout(width='180px'), max=400, min=100), FloatSlider(value=100.0, description='Length [mm]', layout=Layout(width='180px'), max=10000.0, step=1.0), Dropdown(description='Metal', layout=Layout(width='180px'), options=('Copper', 'Silver', 'Aluminium', 'Steel'), value='Copper')), layout=Layout(border='solid')),\n",
       " Section(children=(Dropdown(description='Section Type', index=1, layout=Layout(width='180px'), options=('Line', 'Short', 'Tee'), value='Short'), BoundedIntText(value=140, description='Dint [mm]', layout=Layout(width='180px'), max=300, min=20), BoundedIntText(value=230, description='Dout [mm]', layout=Layout(width='180px'), max=400, min=100), FloatText(value=0.001, description='Short Res. [Ohm]', layout=Layout(width='180px'))), layout=Layout(border='solid')),\n",
       " Section(children=(Dropdown(description='Section Type', layout=Layout(width='180px'), options=('Line', 'Short', 'Tee'), value='Line'), BoundedIntText(value=140, description='Dint [mm]', layout=Layout(width='180px'), max=300, min=20), BoundedIntText(value=230, description='Dout [mm]', layout=Layout(width='180px'), max=400, min=100), FloatSlider(value=100.0, description='Length [mm]', layout=Layout(width='180px'), max=10000.0, step=1.0), Dropdown(description='Metal', layout=Layout(width='180px'), options=('Copper', 'Silver', 'Aluminium', 'Steel'), value='Copper')), layout=Layout(border='solid')),\n",
       " Section(children=(Dropdown(description='Section Type', index=2, layout=Layout(width='180px'), options=('Line', 'Short', 'Tee'), value='Tee'), BoundedIntText(value=140, description='Dint [mm]', layout=Layout(width='180px'), max=300, min=20), BoundedIntText(value=230, description='Dout [mm]', layout=Layout(width='180px'), max=400, min=100), Dropdown(description='Metal', layout=Layout(width='180px'), options=('Copper', 'Silver', 'Aluminium', 'Steel'), value='Copper')), layout=Layout(border='solid')),\n",
       " Section(children=(Dropdown(description='Section Type', layout=Layout(width='180px'), options=('Line', 'Short', 'Tee'), value='Line'), BoundedIntText(value=140, description='Dint [mm]', layout=Layout(width='180px'), max=300, min=20), BoundedIntText(value=230, description='Dout [mm]', layout=Layout(width='180px'), max=400, min=100), FloatSlider(value=100.0, description='Length [mm]', layout=Layout(width='180px'), max=10000.0, step=1.0), Dropdown(description='Metal', layout=Layout(width='180px'), options=('Copper', 'Silver', 'Aluminium', 'Steel'), value='Copper')), layout=Layout(border='solid')),\n",
       " Section(children=(Dropdown(description='Section Type', index=1, layout=Layout(width='180px'), options=('Line', 'Short', 'Tee'), value='Short'), BoundedIntText(value=140, description='Dint [mm]', layout=Layout(width='180px'), max=300, min=20), BoundedIntText(value=230, description='Dout [mm]', layout=Layout(width='180px'), max=400, min=100), FloatText(value=0.001, description='Short Res. [Ohm]', layout=Layout(width='180px'))), layout=Layout(border='solid'))]"
      ]
     },
     "execution_count": 20,
     "metadata": {},
     "output_type": "execute_result"
    }
   ],
   "source": [
    "rb.config"
   ]
  }
 ],
 "metadata": {
  "kernelspec": {
   "display_name": "Python 3",
   "language": "python",
   "name": "python3"
  },
  "language_info": {
   "codemirror_mode": {
    "name": "ipython",
    "version": 3
   },
   "file_extension": ".py",
   "mimetype": "text/x-python",
   "name": "python",
   "nbconvert_exporter": "python",
   "pygments_lexer": "ipython3",
   "version": "3.8.5"
  }
 },
 "nbformat": 4,
 "nbformat_minor": 5
}
