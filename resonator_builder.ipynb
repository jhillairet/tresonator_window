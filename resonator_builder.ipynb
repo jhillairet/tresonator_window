{
 "cells": [
  {
   "cell_type": "code",
   "execution_count": 1,
   "id": "eaf47731",
   "metadata": {},
   "outputs": [],
   "source": [
    "import ipywidgets as widgets"
   ]
  },
  {
   "cell_type": "code",
   "execution_count": 10,
   "id": "6aa97a27",
   "metadata": {},
   "outputs": [
    {
     "data": {
      "application/vnd.jupyter.widget-view+json": {
       "model_id": "d277be06a65f4ca48738266730252f3c",
       "version_major": 2,
       "version_minor": 0
      },
      "text/plain": [
       "HBox(children=(Section(children=(Dropdown(description='Section Type', options=('Line', 'Short', 'Tee'), value=…"
      ]
     },
     "metadata": {},
     "output_type": "display_data"
    }
   ],
   "source": [
    "class Section(widgets.VBox):\n",
    "    def __init__(self):\n",
    "        self.w_kind = widgets.Dropdown(\n",
    "            value='Line',\n",
    "            placeholder='Choose kind',\n",
    "            options=['Line', 'Short', 'Tee'],\n",
    "            description='Section Type',\n",
    "            disabled=False\n",
    "        )\n",
    "        self.kind = self.w_kind.value        \n",
    "        self.w_ui = widgets.VBox()\n",
    "        self.output = widgets.Output()\n",
    "        \n",
    "        # define the various widgets\n",
    "        self.w_Dint = widgets.BoundedIntText(description='Dint [mm]', value=140, min=20, max=300)\n",
    "        self.w_Dout= widgets.BoundedIntText(description='Dout [mm]', value=230, min=100, max=400)\n",
    "        self.w_L = widgets.FloatSlider(description='Length [mm]', min=0, max=10000, step=1, value=100)\n",
    "        self.w_sigma = widgets.Dropdown(\n",
    "            value = 'Copper',\n",
    "            options = ['Copper', 'Silver', 'Aluminium', 'Steel'],\n",
    "            description = 'Metal',\n",
    "            disabled = False\n",
    "        )\n",
    "        self.w_R = widgets.FloatText(description='Short Res. [Ohm]', value=1e-3)\n",
    "               \n",
    "          \n",
    "        \n",
    "        UI = [self.w_kind, self.output]\n",
    "        super().__init__(children=UI)\n",
    "        \n",
    "        self.w_kind.observe(self.on_kind_change, 'value')\n",
    "        with self.output:\n",
    "            self.__instantiate_ui()\n",
    "        \n",
    "    def on_kind_change(self, change):\n",
    "        with self.output:\n",
    "            self.__instantiate_ui(kind=change['new'])\n",
    "            self.kind = change['new']\n",
    "            #print(change['new'])\n",
    "    \n",
    "    def __instantiate_ui(self, kind='Line'):\n",
    "        # close the kind widget if already instanciated\n",
    "#         if self.kind == kind:\n",
    "#             self.w_ui.close()\n",
    "        self.w_ui.close()\n",
    "\n",
    "        # instantiate the new kind widget \n",
    "        if kind == 'Line':\n",
    "            self.w_ui = widgets.VBox([self.w_Dint, self.w_Dout, self.w_L, self.w_sigma])\n",
    "        elif kind == 'Short':\n",
    "            self.w_ui = widgets.VBox([self.w_Dint, self.w_Dout, self.w_R])\n",
    "        elif kind == 'Tee':\n",
    "            self.w_ui = widgets.VBox([self.w_Dint, self.w_Dout, self.w_sigma])\n",
    "\n",
    "        display(self.w_ui)\n",
    "\n",
    "                \n",
    "display(widgets.HBox([Section(), Section()])) "
   ]
  },
  {
   "cell_type": "code",
   "execution_count": null,
   "id": "173e9e38",
   "metadata": {},
   "outputs": [],
   "source": []
  }
 ],
 "metadata": {
  "kernelspec": {
   "display_name": "Python 3",
   "language": "python",
   "name": "python3"
  },
  "language_info": {
   "codemirror_mode": {
    "name": "ipython",
    "version": 3
   },
   "file_extension": ".py",
   "mimetype": "text/x-python",
   "name": "python",
   "nbconvert_exporter": "python",
   "pygments_lexer": "ipython3",
   "version": "3.8.5"
  }
 },
 "nbformat": 4,
 "nbformat_minor": 5
}
