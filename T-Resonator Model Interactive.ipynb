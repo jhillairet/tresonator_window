{
 "cells": [
  {
   "cell_type": "markdown",
   "metadata": {},
   "source": [
    "# ITER Window test-bed T-Resonator"
   ]
  },
  {
   "cell_type": "code",
   "execution_count": 242,
   "metadata": {},
   "outputs": [],
   "source": [
    "import numpy as np\n",
    "import matplotlib.pyplot as plt\n",
    "\n",
    "from ipywidgets import interact, interactive, fixed, interact_manual\n",
    "import ipywidgets as widgets\n",
    "\n",
    "import skrf as rf\n",
    "from skrf.media import Coaxial"
   ]
  },
  {
   "cell_type": "markdown",
   "metadata": {},
   "source": [
    "# Importing the DUT S-parameters"
   ]
  },
  {
   "cell_type": "code",
   "execution_count": null,
   "metadata": {},
   "outputs": [],
   "source": [
    "DUT0=rf.Network('../S-parameters/Tresonator_window_front_window.s2p')\n",
    "DUT0.plot_s_db(m=0, n=0)"
   ]
  },
  {
   "cell_type": "markdown",
   "metadata": {},
   "source": [
    "# Building the T-resonator"
   ]
  },
  {
   "cell_type": "code",
   "execution_count": 380,
   "metadata": {},
   "outputs": [],
   "source": [
    "def tres(L_CEA=100, L_DUT=200, f=None):\n",
    "    Z_short_DUT = 1e-5\n",
    "    Z_short_CEA = 2e-2\n",
    "\n",
    "    DUT = rf.Network('../S-parameters/Tresonator_window_front_window.s2p')\n",
    "\n",
    "    DUT.z0=30\n",
    "    # the frequency range is the one of the DUT\n",
    "    if f:\n",
    "        freq = rf.Frequency(f, f, npoints=1, unit='MHz')\n",
    "    else:    \n",
    "        freq = rf.Frequency(start=50, stop=60, npoints=200, unit='MHz')\n",
    "    DUT = DUT.interpolate(freq)\n",
    "       \n",
    "    # electrical conductivities\n",
    "    conductivity_SS = 1/69e-8 # 1.45e6 in Wikipedia\n",
    "    conductivity_Cu = 1/1.682e-8 # 5.8e7 # Annealed copper.  5.96e7 for pure Cu in Wikipedia\n",
    "    conductivity_Cu = 34578645  # Copper 200deg \n",
    "    conductivity_Ag = 1/1.59e-8 #6.3e7 # Wikipedia\n",
    "    conductivity_Al = 1/2.65e-8 #3.8e7 # Wikipedia\n",
    "\n",
    "    Tee = Coaxial(frequency=freq, Dint=0.140,  Dout=0.230, epsilon_r=1, sigma=conductivity_Ag).tee(name='Tee')\n",
    "\n",
    "    # CEA Branch\n",
    "    C0 = Coaxial(frequency=freq, Dint=0.140,  Dout=0.230, epsilon_r=1, sigma=conductivity_Ag).line(200, unit='mm', name='C0')  # T (1/2)\n",
    "    C1 = Coaxial(frequency=freq, Dint=0.130,  Dout=0.294, epsilon_r=1, sigma=conductivity_Ag).line(180, unit='mm', name='C1')\n",
    "    C2 = Coaxial(frequency=freq, Dint=0.140,  Dout=0.230, epsilon_r=1, sigma=conductivity_Al).line(2000, unit='mm', name='C2')\n",
    "    _C3 = Coaxial(frequency=freq, Dint=0.140,  Dout=0.230, epsilon_r=1, sigma=conductivity_Al)\n",
    "    C3 = _C3.line(L_CEA, unit='mm', name='C3')\n",
    "\n",
    "    # DUT Branch\n",
    "    D0 = Coaxial(frequency=freq, Dint=0.140,  Dout=0.230, epsilon_r=1, sigma=conductivity_Ag).line(200, unit='mm', name='D0') # T (1/2)\n",
    "    D1 = Coaxial(frequency=freq, Dint=0.140, Dout=0.230, epsilon_r=1, sigma=conductivity_Ag).line(100, unit='mm', name='D1')\n",
    "    LB1 = Coaxial(frequency=freq, Dint=0.140, Dout=0.410, epsilon_r=1, sigma=conductivity_Cu).line(239, unit='mm', name='LB1')\n",
    "    LB2 = Coaxial(frequency=freq, Dint=0.140, Dout=0.230, epsilon_r=1, sigma=conductivity_Cu).line(1224, unit='mm', name='LB2')\n",
    "    LB3 = Coaxial(frequency=freq, Dint=0.140, Dout=0.230, epsilon_r=1, sigma=conductivity_Cu).line(200, unit='mm', name='LB3')\n",
    "    _LB5 = Coaxial(frequency=freq, Dint=0.140, Dout=0.230, epsilon_r=1, sigma=conductivity_Cu)\n",
    "    LB5 = _LB5.line(L_DUT, unit='mm', name='LB5')\n",
    "\n",
    "    # T-Resonator Input port\n",
    "    port1 = rf.Circuit.Port(frequency=freq, z0=30, name='port1')\n",
    "    # Short circuits\n",
    "    resistor_dut = _LB5.resistor(Z_short_DUT, name='short_dut')\n",
    "    resistor_cea = _C3.resistor(Z_short_CEA, name='short_cea')\n",
    "    gnd_dut = rf.Circuit.Ground(frequency=freq, z0=_LB5.z0[0], name='gnd_dut')\n",
    "    gnd_cea = rf.Circuit.Ground(frequency=freq, z0=_C2.z0[0], name='gnd_cea')\n",
    "\n",
    "    cnx = [\n",
    "        # T-junction\n",
    "        [(port1, 0), (Tee, 0)], \n",
    "        [(Tee, 1), (C0, 0)], [(Tee, 2), (D0, 0)],\n",
    "        # DUT Branch\n",
    "        [(D0, 1), (D1, 0)],\n",
    "        [(D1, 1), (LB1, 0)],\n",
    "        [(LB1, 1), (LB2, 0)],\n",
    "        [(LB2, 1), (LB3, 0)],\n",
    "        [(LB3, 1), (DUT, 1)],\n",
    "        [(DUT, 0), (LB5, 0)],\n",
    "        [(LB5, 1), (resistor_dut, 0)],\n",
    "        [(resistor_dut, 1), (gnd_dut, 0)],\n",
    "        # CEA branch\n",
    "        [(C0, 1), (C1, 0)],\n",
    "        [(C1, 1), (C2, 0)],\n",
    "        [(C2, 1), (C3, 0)],\n",
    "        [(C3, 1), (resistor_cea, 0)],\n",
    "        [(resistor_cea, 1), (gnd_cea, 0)],\n",
    "    ]\n",
    "    circuit = rf.Circuit(cnx)\n",
    "    return circuit.network\n",
    "\n",
    "def s11_tresonator(L_CEA=100, L_DUT=200):\n",
    "    fig, ax = plt.subplots()\n",
    "    tres(L_CEA, L_DUT).plot_s_db(ax=ax)\n",
    "    ax.set_ylim(-30,1)\n"
   ]
  },
  {
   "cell_type": "code",
   "execution_count": 381,
   "metadata": {},
   "outputs": [
    {
     "data": {
      "application/vnd.jupyter.widget-view+json": {
       "model_id": "e2a4c0d2840c4cc5a2b92f88ad0bd561",
       "version_major": 2,
       "version_minor": 0
      },
      "text/plain": [
       "interactive(children=(FloatSlider(value=100.0, description='L_CEA', max=500.0, min=1.0, step=1.0), FloatSlider…"
      ]
     },
     "metadata": {},
     "output_type": "display_data"
    },
    {
     "data": {
      "text/plain": [
       "<function __main__.s11_tresonator(L_CEA=100, L_DUT=200)>"
      ]
     },
     "execution_count": 381,
     "metadata": {},
     "output_type": "execute_result"
    }
   ],
   "source": [
    "interact(s11_tresonator, \n",
    "         L_CEA=widgets.FloatSlider(min=1, max=500, step=1, value=100), \n",
    "         L_DUT=widgets.FloatSlider(min=1, max=500, step=1, value=200))"
   ]
  },
  {
   "cell_type": "code",
   "execution_count": 382,
   "metadata": {},
   "outputs": [],
   "source": [
    "L_CEAs = np.linspace(0, 300, 50)\n",
    "fs = np.linspace(50, 60, 50)\n",
    "\n",
    "LL_CEA, LL_fs = np.meshgrid(L_CEAs, fs)"
   ]
  },
  {
   "cell_type": "code",
   "execution_count": 383,
   "metadata": {},
   "outputs": [],
   "source": [
    "def S11_f_match(d_CEA, f):\n",
    "    _res = tres(L_CEA=d_CEA, f=f)\n",
    "    \n",
    "    return np.squeeze(_res.s_db[0])\n",
    "\n",
    "vfunc = np.vectorize(S11_f_match)"
   ]
  },
  {
   "cell_type": "code",
   "execution_count": null,
   "metadata": {},
   "outputs": [],
   "source": [
    "S11 = vfunc(LL_CEA, LL_fs)"
   ]
  },
  {
   "cell_type": "code",
   "execution_count": null,
   "metadata": {},
   "outputs": [],
   "source": [
    "fig,ax=plt.subplots()\n",
    "c=ax.pcolor(LL_CEA, fs, S11, cmap='Greens_r')\n",
    "fig.colorbar(c)\n",
    "# ax.axvline(d_DUT_opt*1e3, ls='--')\n",
    "# ax.axhline(d_CEA_opt*1e3, ls='--')\n",
    "\n",
    "ax.set_xlabel('L CEA [mm]')\n",
    "ax.set_ylabel('f [MHz]')\n",
    "ax.set_title('s11 [dB]')"
   ]
  },
  {
   "cell_type": "code",
   "execution_count": null,
   "metadata": {},
   "outputs": [],
   "source": []
  }
 ],
 "metadata": {
  "kernelspec": {
   "display_name": "Python 3",
   "language": "python",
   "name": "python3"
  },
  "language_info": {
   "codemirror_mode": {
    "name": "ipython",
    "version": 3
   },
   "file_extension": ".py",
   "mimetype": "text/x-python",
   "name": "python",
   "nbconvert_exporter": "python",
   "pygments_lexer": "ipython3",
   "version": "3.7.8"
  }
 },
 "nbformat": 4,
 "nbformat_minor": 4
}
