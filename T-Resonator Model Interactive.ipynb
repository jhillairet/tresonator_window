{
 "cells": [
  {
   "cell_type": "markdown",
   "metadata": {},
   "source": [
    "# ITER Window test-bed T-Resonator"
   ]
  },
  {
   "cell_type": "code",
   "execution_count": 2,
   "metadata": {},
   "outputs": [],
   "source": [
    "import numpy as np\n",
    "import matplotlib.pyplot as plt\n",
    "\n",
    "from ipywidgets import interact, interactive, fixed, interact_manual\n",
    "import ipywidgets as widgets\n",
    "\n",
    "import skrf as rf\n",
    "from skrf.media import Coaxial"
   ]
  },
  {
   "cell_type": "markdown",
   "metadata": {},
   "source": [
    "# Importing the DUT S-parameters"
   ]
  },
  {
   "cell_type": "code",
   "execution_count": 3,
   "metadata": {},
   "outputs": [
    {
     "data": {
      "image/png": "[encoded data removed]",
      "text/plain": [
       "<Figure size 432x288 with 1 Axes>"
      ]
     },
     "metadata": {
      "needs_background": "light"
     },
     "output_type": "display_data"
    }
   ],
   "source": [
    "DUT0=rf.Network('S-parameters/Tresonator_window_front_window.s2p')\n",
    "DUT0.plot_s_db(m=1, n=0)"
   ]
  },
  {
   "cell_type": "code",
   "execution_count": null,
   "metadata": {},
   "outputs": [],
   "source": []
  },
  {
   "cell_type": "markdown",
   "metadata": {},
   "source": [
    "# Building the T-resonator"
   ]
  },
  {
   "cell_type": "code",
   "execution_count": 4,
   "metadata": {},
   "outputs": [],
   "source": [
    "class Tresonator():\n",
    "    def __init__(self, L_CEA=100, L_DUT=200, f=None):\n",
    "        self.Z_short_DUT = 1e-5\n",
    "        self.Z_short_CEA = 2e-2\n",
    "        self.L_CEA = L_CEA\n",
    "        self.L_DUT = L_DUT\n",
    "\n",
    "        self.DUT = rf.Network('S-parameters/Tresonator_window_front_window.s2p')\n",
    "\n",
    "        # the frequency range is the one of the DUT\n",
    "        if f:\n",
    "            self.frequency = rf.Frequency(f, f, npoints=1, unit='MHz')\n",
    "        else:    \n",
    "            self.frequency = rf.Frequency(start=50, stop=60, npoints=200, unit='MHz')\n",
    "        self.DUT = self.DUT.interpolate(self.frequency)\n",
    "\n",
    "        # electrical conductivities\n",
    "        self.conductivity_SS = 1/69e-8 # 1.45e6 in Wikipedia\n",
    "        self.conductivity_Cu = 1/1.682e-8 # 5.8e7 # Annealed copper.  5.96e7 for pure Cu in Wikipedia\n",
    "        self.conductivity_Cu = 34578645  # Copper 200deg \n",
    "        self.conductivity_Ag = 1/1.59e-8 #6.3e7 # Wikipedia\n",
    "        self.conductivity_Al = 1/2.65e-8 #3.8e7 # Wikipedia\n",
    "\n",
    "    @property\n",
    "    def circuit(self):\n",
    "        Tee = Coaxial(frequency=self.frequency, Dint=0.140,  Dout=0.230, epsilon_r=1, sigma=self.conductivity_Ag).tee(name='Tee')\n",
    "\n",
    "        # Equivalent DUT\n",
    "#         self.DUT = Coaxial(frequency=self.frequency, Dint=0.140, Dout=0.196, epsilon_r=1, sigma=self.conductivity_Cu).line()\n",
    "        \n",
    "        # CEA Branch\n",
    "        C0 = Coaxial(frequency=self.frequency, Dint=0.140,  Dout=0.230, epsilon_r=1, sigma=self.conductivity_Ag).line(200, unit='mm', name='C0')  # T (1/2)\n",
    "        C1 = Coaxial(frequency=self.frequency, Dint=0.130,  Dout=0.294, epsilon_r=1, sigma=self.conductivity_Ag).line(180, unit='mm', name='C1')\n",
    "        C2 = Coaxial(frequency=self.frequency, Dint=0.140,  Dout=0.230, epsilon_r=1, sigma=self.conductivity_Al).line(2000, unit='mm', name='C2')\n",
    "        _C3 = Coaxial(frequency=self.frequency, Dint=0.140,  Dout=0.230, epsilon_r=1, sigma=self.conductivity_Al)\n",
    "        C3 = _C3.line(self.L_CEA, unit='mm', name='C3')\n",
    "\n",
    "        # DUT Branch\n",
    "        D0 = Coaxial(frequency=self.frequency, Dint=0.140,  Dout=0.230, epsilon_r=1, sigma=self.conductivity_Ag).line(200, unit='mm', name='D0') # T (1/2)\n",
    "        D1 = Coaxial(frequency=self.frequency, Dint=0.140, Dout=0.230, epsilon_r=1, sigma=self.conductivity_Ag).line(100, unit='mm', name='D1')\n",
    "        LB1 = Coaxial(frequency=self.frequency, Dint=0.140, Dout=0.410, epsilon_r=1, sigma=self.conductivity_Cu).line(239, unit='mm', name='LB1')\n",
    "        LB2 = Coaxial(frequency=self.frequency, Dint=0.140, Dout=0.230, epsilon_r=1, sigma=self.conductivity_Cu).line(1224, unit='mm', name='LB2')\n",
    "        LB3 = Coaxial(frequency=self.frequency, Dint=0.140, Dout=0.230, epsilon_r=1, sigma=self.conductivity_Cu).line(200, unit='mm', name='LB3')\n",
    "        _LB5 = Coaxial(frequency=self.frequency, Dint=0.140, Dout=0.230, epsilon_r=1, sigma=self.conductivity_Cu)\n",
    "        LB5 = _LB5.line(self.L_DUT, unit='mm', name='LB5')\n",
    "\n",
    "        # T-Resonator Input port\n",
    "        port1 = rf.Circuit.Port(frequency=self.frequency, z0=30, name='port1')\n",
    "        # Short circuits\n",
    "        resistor_dut = _LB5.resistor(self.Z_short_DUT, name='short_dut')\n",
    "        resistor_cea = _C3.resistor(self.Z_short_CEA, name='short_cea')\n",
    "        gnd_dut = rf.Circuit.Ground(frequency=self.frequency, z0=_LB5.z0[0], name='gnd_dut')\n",
    "        gnd_cea = rf.Circuit.Ground(frequency=self.frequency, z0=_C3.z0[0], name='gnd_cea')\n",
    "\n",
    "        cnx = [\n",
    "            # T-junction\n",
    "            [(port1, 0), (Tee, 0)], \n",
    "            [(Tee, 1), (C0, 0)], [(Tee, 2), (D0, 0)],\n",
    "            # DUT Branch\n",
    "            [(D0, 1), (D1, 0)],\n",
    "            [(D1, 1), (LB1, 0)],\n",
    "            [(LB1, 1), (LB2, 0)],\n",
    "            [(LB2, 1), (LB3, 0)],\n",
    "            [(LB3, 1), (self.DUT, 1)],\n",
    "            [(self.DUT, 0), (LB5, 0)],\n",
    "            [(LB5, 1), (resistor_dut, 0)],\n",
    "            [(resistor_dut, 1), (gnd_dut, 0)],\n",
    "            # CEA branch\n",
    "            [(C0, 1), (C1, 0)],\n",
    "            [(C1, 1), (C2, 0)],\n",
    "            [(C2, 1), (C3, 0)],\n",
    "            [(C3, 1), (resistor_cea, 0)],\n",
    "            [(resistor_cea, 1), (gnd_cea, 0)],\n",
    "        ]\n",
    "        self._circuit = rf.Circuit(cnx)\n",
    "        return self._circuit\n",
    "    \n",
    "    @property\n",
    "    def network(self):\n",
    "        return self.circuit.network\n",
    "\n",
    "def plot_s11(L_CEA=100, L_DUT=200):\n",
    "    fig, ax = plt.subplots()\n",
    "    Tresonator(L_CEA, L_DUT).network.plot_s_db(ax=ax)\n",
    "    ax.set_ylim(-30,1)\n"
   ]
  },
  {
   "cell_type": "code",
   "execution_count": 5,
   "metadata": {},
   "outputs": [
    {
     "data": {
      "application/vnd.jupyter.widget-view+json": {
       "model_id": "501747ef947e45ea86d6e1487077bdb6",
       "version_major": 2,
       "version_minor": 0
      },
      "text/plain": [
       "interactive(children=(FloatSlider(value=100.0, description='L_CEA', max=500.0, min=1.0, step=1.0), FloatSlider…"
      ]
     },
     "metadata": {},
     "output_type": "display_data"
    },
    {
     "data": {
      "text/plain": [
       "<function __main__.plot_s11(L_CEA=100, L_DUT=200)>"
      ]
     },
     "execution_count": 5,
     "metadata": {},
     "output_type": "execute_result"
    }
   ],
   "source": [
    "interact(plot_s11, \n",
    "         L_CEA=widgets.FloatSlider(min=1, max=500, step=1, value=100), \n",
    "         L_DUT=widgets.FloatSlider(min=1, max=500, step=1, value=200))"
   ]
  },
  {
   "cell_type": "code",
   "execution_count": 6,
   "metadata": {},
   "outputs": [],
   "source": [
    "L_CEAs = np.linspace(0, 300, 50)\n",
    "fs = np.linspace(50, 60, 50)\n",
    "\n",
    "LL_CEA, LL_fs = np.meshgrid(L_CEAs, fs)"
   ]
  },
  {
   "cell_type": "code",
   "execution_count": 7,
   "metadata": {},
   "outputs": [],
   "source": [
    "def S11_f_match(d_CEA, f):\n",
    "    _res = tres(L_CEA=d_CEA, f=f)\n",
    "    \n",
    "    return np.squeeze(_res.s_db[0])\n",
    "\n",
    "vfunc = np.vectorize(S11_f_match)"
   ]
  },
  {
   "cell_type": "code",
   "execution_count": 8,
   "metadata": {},
   "outputs": [
    {
     "ename": "NameError",
     "evalue": "name 'tres' is not defined",
     "output_type": "error",
     "traceback": [
      "\u001b[0;31m---------------------------------------------------------------------------\u001b[0m",
      "\u001b[0;31mNameError\u001b[0m                                 Traceback (most recent call last)",
      "\u001b[0;32m<ipython-input-8-df79aeca1b38>\u001b[0m in \u001b[0;36m<module>\u001b[0;34m\u001b[0m\n\u001b[0;32m----> 1\u001b[0;31m \u001b[0mS11\u001b[0m \u001b[0;34m=\u001b[0m \u001b[0mvfunc\u001b[0m\u001b[0;34m(\u001b[0m\u001b[0mLL_CEA\u001b[0m\u001b[0;34m,\u001b[0m \u001b[0mLL_fs\u001b[0m\u001b[0;34m)\u001b[0m\u001b[0;34m\u001b[0m\u001b[0;34m\u001b[0m\u001b[0m\n\u001b[0m",
      "\u001b[0;32m~/miniconda3/lib/python3.8/site-packages/numpy/lib/function_base.py\u001b[0m in \u001b[0;36m__call__\u001b[0;34m(self, *args, **kwargs)\u001b[0m\n\u001b[1;32m   2111\u001b[0m             \u001b[0mvargs\u001b[0m\u001b[0;34m.\u001b[0m\u001b[0mextend\u001b[0m\u001b[0;34m(\u001b[0m\u001b[0;34m[\u001b[0m\u001b[0mkwargs\u001b[0m\u001b[0;34m[\u001b[0m\u001b[0m_n\u001b[0m\u001b[0;34m]\u001b[0m \u001b[0;32mfor\u001b[0m \u001b[0m_n\u001b[0m \u001b[0;32min\u001b[0m \u001b[0mnames\u001b[0m\u001b[0;34m]\u001b[0m\u001b[0;34m)\u001b[0m\u001b[0;34m\u001b[0m\u001b[0;34m\u001b[0m\u001b[0m\n\u001b[1;32m   2112\u001b[0m \u001b[0;34m\u001b[0m\u001b[0m\n\u001b[0;32m-> 2113\u001b[0;31m         \u001b[0;32mreturn\u001b[0m \u001b[0mself\u001b[0m\u001b[0;34m.\u001b[0m\u001b[0m_vectorize_call\u001b[0m\u001b[0;34m(\u001b[0m\u001b[0mfunc\u001b[0m\u001b[0;34m=\u001b[0m\u001b[0mfunc\u001b[0m\u001b[0;34m,\u001b[0m \u001b[0margs\u001b[0m\u001b[0;34m=\u001b[0m\u001b[0mvargs\u001b[0m\u001b[0;34m)\u001b[0m\u001b[0;34m\u001b[0m\u001b[0;34m\u001b[0m\u001b[0m\n\u001b[0m\u001b[1;32m   2114\u001b[0m \u001b[0;34m\u001b[0m\u001b[0m\n\u001b[1;32m   2115\u001b[0m     \u001b[0;32mdef\u001b[0m \u001b[0m_get_ufunc_and_otypes\u001b[0m\u001b[0;34m(\u001b[0m\u001b[0mself\u001b[0m\u001b[0;34m,\u001b[0m \u001b[0mfunc\u001b[0m\u001b[0;34m,\u001b[0m \u001b[0margs\u001b[0m\u001b[0;34m)\u001b[0m\u001b[0;34m:\u001b[0m\u001b[0;34m\u001b[0m\u001b[0;34m\u001b[0m\u001b[0m\n",
      "\u001b[0;32m~/miniconda3/lib/python3.8/site-packages/numpy/lib/function_base.py\u001b[0m in \u001b[0;36m_vectorize_call\u001b[0;34m(self, func, args)\u001b[0m\n\u001b[1;32m   2189\u001b[0m             \u001b[0mres\u001b[0m \u001b[0;34m=\u001b[0m \u001b[0mfunc\u001b[0m\u001b[0;34m(\u001b[0m\u001b[0;34m)\u001b[0m\u001b[0;34m\u001b[0m\u001b[0;34m\u001b[0m\u001b[0m\n\u001b[1;32m   2190\u001b[0m         \u001b[0;32melse\u001b[0m\u001b[0;34m:\u001b[0m\u001b[0;34m\u001b[0m\u001b[0;34m\u001b[0m\u001b[0m\n\u001b[0;32m-> 2191\u001b[0;31m             \u001b[0mufunc\u001b[0m\u001b[0;34m,\u001b[0m \u001b[0motypes\u001b[0m \u001b[0;34m=\u001b[0m \u001b[0mself\u001b[0m\u001b[0;34m.\u001b[0m\u001b[0m_get_ufunc_and_otypes\u001b[0m\u001b[0;34m(\u001b[0m\u001b[0mfunc\u001b[0m\u001b[0;34m=\u001b[0m\u001b[0mfunc\u001b[0m\u001b[0;34m,\u001b[0m \u001b[0margs\u001b[0m\u001b[0;34m=\u001b[0m\u001b[0margs\u001b[0m\u001b[0;34m)\u001b[0m\u001b[0;34m\u001b[0m\u001b[0;34m\u001b[0m\u001b[0m\n\u001b[0m\u001b[1;32m   2192\u001b[0m \u001b[0;34m\u001b[0m\u001b[0m\n\u001b[1;32m   2193\u001b[0m             \u001b[0;31m# Convert args to object arrays first\u001b[0m\u001b[0;34m\u001b[0m\u001b[0;34m\u001b[0m\u001b[0;34m\u001b[0m\u001b[0m\n",
      "\u001b[0;32m~/miniconda3/lib/python3.8/site-packages/numpy/lib/function_base.py\u001b[0m in \u001b[0;36m_get_ufunc_and_otypes\u001b[0;34m(self, func, args)\u001b[0m\n\u001b[1;32m   2149\u001b[0m \u001b[0;34m\u001b[0m\u001b[0m\n\u001b[1;32m   2150\u001b[0m             \u001b[0minputs\u001b[0m \u001b[0;34m=\u001b[0m \u001b[0;34m[\u001b[0m\u001b[0marg\u001b[0m\u001b[0;34m.\u001b[0m\u001b[0mflat\u001b[0m\u001b[0;34m[\u001b[0m\u001b[0;36m0\u001b[0m\u001b[0;34m]\u001b[0m \u001b[0;32mfor\u001b[0m \u001b[0marg\u001b[0m \u001b[0;32min\u001b[0m \u001b[0margs\u001b[0m\u001b[0;34m]\u001b[0m\u001b[0;34m\u001b[0m\u001b[0;34m\u001b[0m\u001b[0m\n\u001b[0;32m-> 2151\u001b[0;31m             \u001b[0moutputs\u001b[0m \u001b[0;34m=\u001b[0m \u001b[0mfunc\u001b[0m\u001b[0;34m(\u001b[0m\u001b[0;34m*\u001b[0m\u001b[0minputs\u001b[0m\u001b[0;34m)\u001b[0m\u001b[0;34m\u001b[0m\u001b[0;34m\u001b[0m\u001b[0m\n\u001b[0m\u001b[1;32m   2152\u001b[0m \u001b[0;34m\u001b[0m\u001b[0m\n\u001b[1;32m   2153\u001b[0m             \u001b[0;31m# Performance note: profiling indicates that -- for simple\u001b[0m\u001b[0;34m\u001b[0m\u001b[0;34m\u001b[0m\u001b[0;34m\u001b[0m\u001b[0m\n",
      "\u001b[0;32m<ipython-input-7-b43abfded928>\u001b[0m in \u001b[0;36mS11_f_match\u001b[0;34m(d_CEA, f)\u001b[0m\n\u001b[1;32m      1\u001b[0m \u001b[0;32mdef\u001b[0m \u001b[0mS11_f_match\u001b[0m\u001b[0;34m(\u001b[0m\u001b[0md_CEA\u001b[0m\u001b[0;34m,\u001b[0m \u001b[0mf\u001b[0m\u001b[0;34m)\u001b[0m\u001b[0;34m:\u001b[0m\u001b[0;34m\u001b[0m\u001b[0;34m\u001b[0m\u001b[0m\n\u001b[0;32m----> 2\u001b[0;31m     \u001b[0m_res\u001b[0m \u001b[0;34m=\u001b[0m \u001b[0mtres\u001b[0m\u001b[0;34m(\u001b[0m\u001b[0mL_CEA\u001b[0m\u001b[0;34m=\u001b[0m\u001b[0md_CEA\u001b[0m\u001b[0;34m,\u001b[0m \u001b[0mf\u001b[0m\u001b[0;34m=\u001b[0m\u001b[0mf\u001b[0m\u001b[0;34m)\u001b[0m\u001b[0;34m\u001b[0m\u001b[0;34m\u001b[0m\u001b[0m\n\u001b[0m\u001b[1;32m      3\u001b[0m \u001b[0;34m\u001b[0m\u001b[0m\n\u001b[1;32m      4\u001b[0m     \u001b[0;32mreturn\u001b[0m \u001b[0mnp\u001b[0m\u001b[0;34m.\u001b[0m\u001b[0msqueeze\u001b[0m\u001b[0;34m(\u001b[0m\u001b[0m_res\u001b[0m\u001b[0;34m.\u001b[0m\u001b[0ms_db\u001b[0m\u001b[0;34m[\u001b[0m\u001b[0;36m0\u001b[0m\u001b[0;34m]\u001b[0m\u001b[0;34m)\u001b[0m\u001b[0;34m\u001b[0m\u001b[0;34m\u001b[0m\u001b[0m\n\u001b[1;32m      5\u001b[0m \u001b[0;34m\u001b[0m\u001b[0m\n",
      "\u001b[0;31mNameError\u001b[0m: name 'tres' is not defined"
     ]
    }
   ],
   "source": [
    "S11 = vfunc(LL_CEA, LL_fs)"
   ]
  },
  {
   "cell_type": "code",
   "execution_count": null,
   "metadata": {},
   "outputs": [],
   "source": [
    "fig,ax=plt.subplots()\n",
    "c=ax.pcolor(LL_CEA, fs, S11, cmap='Greens_r')\n",
    "fig.colorbar(c)\n",
    "# ax.axvline(d_DUT_opt*1e3, ls='--')\n",
    "# ax.axhline(d_CEA_opt*1e3, ls='--')\n",
    "\n",
    "ax.set_xlabel('L CEA [mm]')\n",
    "ax.set_ylabel('f [MHz]')\n",
    "ax.set_title('s11 [dB]')"
   ]
  },
  {
   "cell_type": "code",
   "execution_count": null,
   "metadata": {},
   "outputs": [],
   "source": []
  }
 ],
 "metadata": {
  "kernelspec": {
   "display_name": "Python 3",
   "language": "python",
   "name": "python3"
  },
  "language_info": {
   "codemirror_mode": {
    "name": "ipython",
    "version": 3
   },
   "file_extension": ".py",
   "mimetype": "text/x-python",
   "name": "python",
   "nbconvert_exporter": "python",
   "pygments_lexer": "ipython3",
   "version": "3.8.5"
  }
 },
 "nbformat": 4,
 "nbformat_minor": 4
}
